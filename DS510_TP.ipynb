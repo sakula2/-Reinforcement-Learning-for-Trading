{
  "nbformat": 4,
  "nbformat_minor": 0,
  "metadata": {
    "colab": {
      "provenance": []
    },
    "kernelspec": {
      "name": "python3",
      "display_name": "Python 3"
    },
    "language_info": {
      "name": "python"
    },
    "accelerator": "GPU",
    "gpuClass": "standard"
  },
  "cells": [
    {
      "cell_type": "code",
      "source": [
        "# Importing Dependencies\n",
        "import gym_anytrading\n",
        "import gym\n",
        "from stable_baselines3 import A2C\n",
        "from stable_baselines3.common.vec_env import DummyVecEnv\n",
        "import pandas as pd\n",
        "import numpy as np\n",
        "from matplotlib import pyplot as plt"
      ],
      "metadata": {
        "id": "x7ke5VlkZze0"
      },
      "execution_count": null,
      "outputs": []
    },
    {
      "cell_type": "code",
      "execution_count": null,
      "metadata": {
        "id": "fVRe-aZgRuqM",
        "colab": {
          "base_uri": "https://localhost:8080/"
        },
        "outputId": "79c84007-16a2-4821-983a-5476c229c454"
      },
      "outputs": [
        {
          "output_type": "stream",
          "name": "stdout",
          "text": [
            "Looking in indexes: https://pypi.org/simple, https://us-python.pkg.dev/colab-wheels/public/simple/\n",
            "Requirement already satisfied: gym-anytrading in /usr/local/lib/python3.7/dist-packages (1.3.1)\n",
            "Requirement already satisfied: gym in /usr/local/lib/python3.7/dist-packages (0.21.0)\n",
            "Requirement already satisfied: stable-baselines3 in /usr/local/lib/python3.7/dist-packages (1.6.0)\n",
            "Requirement already satisfied: numpy>=1.16.4 in /usr/local/lib/python3.7/dist-packages (from gym-anytrading) (1.21.6)\n",
            "Requirement already satisfied: matplotlib>=3.1.1 in /usr/local/lib/python3.7/dist-packages (from gym-anytrading) (3.2.2)\n",
            "Requirement already satisfied: pandas>=0.24.2 in /usr/local/lib/python3.7/dist-packages (from gym-anytrading) (1.3.5)\n",
            "Requirement already satisfied: importlib-metadata>=4.8.1 in /usr/local/lib/python3.7/dist-packages (from gym) (4.12.0)\n",
            "Requirement already satisfied: cloudpickle>=1.2.0 in /usr/local/lib/python3.7/dist-packages (from gym) (1.5.0)\n",
            "Requirement already satisfied: zipp>=0.5 in /usr/local/lib/python3.7/dist-packages (from importlib-metadata>=4.8.1->gym) (3.8.1)\n",
            "Requirement already satisfied: typing-extensions>=3.6.4 in /usr/local/lib/python3.7/dist-packages (from importlib-metadata>=4.8.1->gym) (4.1.1)\n",
            "Requirement already satisfied: pyparsing!=2.0.4,!=2.1.2,!=2.1.6,>=2.0.1 in /usr/local/lib/python3.7/dist-packages (from matplotlib>=3.1.1->gym-anytrading) (3.0.9)\n",
            "Requirement already satisfied: python-dateutil>=2.1 in /usr/local/lib/python3.7/dist-packages (from matplotlib>=3.1.1->gym-anytrading) (2.8.2)\n",
            "Requirement already satisfied: cycler>=0.10 in /usr/local/lib/python3.7/dist-packages (from matplotlib>=3.1.1->gym-anytrading) (0.11.0)\n",
            "Requirement already satisfied: kiwisolver>=1.0.1 in /usr/local/lib/python3.7/dist-packages (from matplotlib>=3.1.1->gym-anytrading) (1.4.4)\n",
            "Requirement already satisfied: pytz>=2017.3 in /usr/local/lib/python3.7/dist-packages (from pandas>=0.24.2->gym-anytrading) (2022.2.1)\n",
            "Requirement already satisfied: six>=1.5 in /usr/local/lib/python3.7/dist-packages (from python-dateutil>=2.1->matplotlib>=3.1.1->gym-anytrading) (1.15.0)\n",
            "Requirement already satisfied: torch>=1.11 in /usr/local/lib/python3.7/dist-packages (from stable-baselines3) (1.12.1+cu113)\n"
          ]
        }
      ],
      "source": [
        "!pip install gym-anytrading gym stable-baselines3"
      ]
    },
    {
      "cell_type": "code",
      "source": [
        "#loading dataset\n",
        "data = pd.read_csv('/content/Stockdata.csv')\n",
        "#viewing the data\n",
        "print(data)\n"
      ],
      "metadata": {
        "id": "VpL1ova1og8p",
        "outputId": "b63e5a67-ceef-4806-e4fe-f6d863d56604",
        "colab": {
          "base_uri": "https://localhost:8080/"
        }
      },
      "execution_count": null,
      "outputs": [
        {
          "output_type": "stream",
          "name": "stdout",
          "text": [
            "         Date        Open        High         Low       Close    Volume\n",
            "0    1/4/2021   19.000000   19.100000   17.150000   17.250000  10022500\n",
            "1    1/5/2021   17.350000   18.080000   17.230000   17.370001   4961500\n",
            "2    1/6/2021   17.340000   18.980000   17.330000   18.360001   6056200\n",
            "3    1/7/2021   18.469999   19.450001   18.020000   18.080000   6129300\n",
            "4    1/8/2021   18.180000   18.299999   17.080000   17.690001   6482000\n",
            "..        ...         ...         ...         ...         ...       ...\n",
            "67  4/12/2021  158.110001  163.899994  135.009995  141.089996  16683600\n",
            "68  4/13/2021  141.880005  145.380005  132.000000  140.990005   6806900\n",
            "69  4/14/2021  143.570007  174.089996  143.000000  166.529999  21138100\n",
            "70  4/15/2021  163.000000  166.250000  152.800003  156.440002   7856800\n",
            "71  4/16/2021  156.000000  160.199997  151.250000  154.690002   5139700\n",
            "\n",
            "[72 rows x 6 columns]\n"
          ]
        }
      ]
    },
    {
      "cell_type": "code",
      "source": [
        "#converting Date Column to DateTime Type\n",
        "data ['Date'] = pd.to_datetime(data ['Date'])\n",
        "#setting the column as index\n",
        "data.set_index('Date', inplace=True)"
      ],
      "metadata": {
        "id": "tNpgbN-crDUF"
      },
      "execution_count": null,
      "outputs": []
    },
    {
      "cell_type": "code",
      "source": [
        "#viewing the data\n",
        "data.head()"
      ],
      "metadata": {
        "colab": {
          "base_uri": "https://localhost:8080/",
          "height": 237
        },
        "id": "neSPKxS8sZVZ",
        "outputId": "c8eede3a-b899-4b9a-8336-719146dfee0a"
      },
      "execution_count": null,
      "outputs": [
        {
          "output_type": "execute_result",
          "data": {
            "text/plain": [
              "                 Open       High    Low      Close    Volume\n",
              "Date                                                        \n",
              "2021-01-04  19.000000  19.100000  17.15  17.250000  10022500\n",
              "2021-01-05  17.350000  18.080000  17.23  17.370001   4961500\n",
              "2021-01-06  17.340000  18.980000  17.33  18.360001   6056200\n",
              "2021-01-07  18.469999  19.450001  18.02  18.080000   6129300\n",
              "2021-01-08  18.180000  18.299999  17.08  17.690001   6482000"
            ],
            "text/html": [
              "\n",
              "  <div id=\"df-2202738b-070b-401b-a30a-835affefeeb4\">\n",
              "    <div class=\"colab-df-container\">\n",
              "      <div>\n",
              "<style scoped>\n",
              "    .dataframe tbody tr th:only-of-type {\n",
              "        vertical-align: middle;\n",
              "    }\n",
              "\n",
              "    .dataframe tbody tr th {\n",
              "        vertical-align: top;\n",
              "    }\n",
              "\n",
              "    .dataframe thead th {\n",
              "        text-align: right;\n",
              "    }\n",
              "</style>\n",
              "<table border=\"1\" class=\"dataframe\">\n",
              "  <thead>\n",
              "    <tr style=\"text-align: right;\">\n",
              "      <th></th>\n",
              "      <th>Open</th>\n",
              "      <th>High</th>\n",
              "      <th>Low</th>\n",
              "      <th>Close</th>\n",
              "      <th>Volume</th>\n",
              "    </tr>\n",
              "    <tr>\n",
              "      <th>Date</th>\n",
              "      <th></th>\n",
              "      <th></th>\n",
              "      <th></th>\n",
              "      <th></th>\n",
              "      <th></th>\n",
              "    </tr>\n",
              "  </thead>\n",
              "  <tbody>\n",
              "    <tr>\n",
              "      <th>2021-01-04</th>\n",
              "      <td>19.000000</td>\n",
              "      <td>19.100000</td>\n",
              "      <td>17.15</td>\n",
              "      <td>17.250000</td>\n",
              "      <td>10022500</td>\n",
              "    </tr>\n",
              "    <tr>\n",
              "      <th>2021-01-05</th>\n",
              "      <td>17.350000</td>\n",
              "      <td>18.080000</td>\n",
              "      <td>17.23</td>\n",
              "      <td>17.370001</td>\n",
              "      <td>4961500</td>\n",
              "    </tr>\n",
              "    <tr>\n",
              "      <th>2021-01-06</th>\n",
              "      <td>17.340000</td>\n",
              "      <td>18.980000</td>\n",
              "      <td>17.33</td>\n",
              "      <td>18.360001</td>\n",
              "      <td>6056200</td>\n",
              "    </tr>\n",
              "    <tr>\n",
              "      <th>2021-01-07</th>\n",
              "      <td>18.469999</td>\n",
              "      <td>19.450001</td>\n",
              "      <td>18.02</td>\n",
              "      <td>18.080000</td>\n",
              "      <td>6129300</td>\n",
              "    </tr>\n",
              "    <tr>\n",
              "      <th>2021-01-08</th>\n",
              "      <td>18.180000</td>\n",
              "      <td>18.299999</td>\n",
              "      <td>17.08</td>\n",
              "      <td>17.690001</td>\n",
              "      <td>6482000</td>\n",
              "    </tr>\n",
              "  </tbody>\n",
              "</table>\n",
              "</div>\n",
              "      <button class=\"colab-df-convert\" onclick=\"convertToInteractive('df-2202738b-070b-401b-a30a-835affefeeb4')\"\n",
              "              title=\"Convert this dataframe to an interactive table.\"\n",
              "              style=\"display:none;\">\n",
              "        \n",
              "  <svg xmlns=\"http://www.w3.org/2000/svg\" height=\"24px\"viewBox=\"0 0 24 24\"\n",
              "       width=\"24px\">\n",
              "    <path d=\"M0 0h24v24H0V0z\" fill=\"none\"/>\n",
              "    <path d=\"M18.56 5.44l.94 2.06.94-2.06 2.06-.94-2.06-.94-.94-2.06-.94 2.06-2.06.94zm-11 1L8.5 8.5l.94-2.06 2.06-.94-2.06-.94L8.5 2.5l-.94 2.06-2.06.94zm10 10l.94 2.06.94-2.06 2.06-.94-2.06-.94-.94-2.06-.94 2.06-2.06.94z\"/><path d=\"M17.41 7.96l-1.37-1.37c-.4-.4-.92-.59-1.43-.59-.52 0-1.04.2-1.43.59L10.3 9.45l-7.72 7.72c-.78.78-.78 2.05 0 2.83L4 21.41c.39.39.9.59 1.41.59.51 0 1.02-.2 1.41-.59l7.78-7.78 2.81-2.81c.8-.78.8-2.07 0-2.86zM5.41 20L4 18.59l7.72-7.72 1.47 1.35L5.41 20z\"/>\n",
              "  </svg>\n",
              "      </button>\n",
              "      \n",
              "  <style>\n",
              "    .colab-df-container {\n",
              "      display:flex;\n",
              "      flex-wrap:wrap;\n",
              "      gap: 12px;\n",
              "    }\n",
              "\n",
              "    .colab-df-convert {\n",
              "      background-color: #E8F0FE;\n",
              "      border: none;\n",
              "      border-radius: 50%;\n",
              "      cursor: pointer;\n",
              "      display: none;\n",
              "      fill: #1967D2;\n",
              "      height: 32px;\n",
              "      padding: 0 0 0 0;\n",
              "      width: 32px;\n",
              "    }\n",
              "\n",
              "    .colab-df-convert:hover {\n",
              "      background-color: #E2EBFA;\n",
              "      box-shadow: 0px 1px 2px rgba(60, 64, 67, 0.3), 0px 1px 3px 1px rgba(60, 64, 67, 0.15);\n",
              "      fill: #174EA6;\n",
              "    }\n",
              "\n",
              "    [theme=dark] .colab-df-convert {\n",
              "      background-color: #3B4455;\n",
              "      fill: #D2E3FC;\n",
              "    }\n",
              "\n",
              "    [theme=dark] .colab-df-convert:hover {\n",
              "      background-color: #434B5C;\n",
              "      box-shadow: 0px 1px 3px 1px rgba(0, 0, 0, 0.15);\n",
              "      filter: drop-shadow(0px 1px 2px rgba(0, 0, 0, 0.3));\n",
              "      fill: #FFFFFF;\n",
              "    }\n",
              "  </style>\n",
              "\n",
              "      <script>\n",
              "        const buttonEl =\n",
              "          document.querySelector('#df-2202738b-070b-401b-a30a-835affefeeb4 button.colab-df-convert');\n",
              "        buttonEl.style.display =\n",
              "          google.colab.kernel.accessAllowed ? 'block' : 'none';\n",
              "\n",
              "        async function convertToInteractive(key) {\n",
              "          const element = document.querySelector('#df-2202738b-070b-401b-a30a-835affefeeb4');\n",
              "          const dataTable =\n",
              "            await google.colab.kernel.invokeFunction('convertToInteractive',\n",
              "                                                     [key], {});\n",
              "          if (!dataTable) return;\n",
              "\n",
              "          const docLinkHtml = 'Like what you see? Visit the ' +\n",
              "            '<a target=\"_blank\" href=https://colab.research.google.com/notebooks/data_table.ipynb>data table notebook</a>'\n",
              "            + ' to learn more about interactive tables.';\n",
              "          element.innerHTML = '';\n",
              "          dataTable['output_type'] = 'display_data';\n",
              "          await google.colab.output.renderOutput(dataTable, element);\n",
              "          const docLink = document.createElement('div');\n",
              "          docLink.innerHTML = docLinkHtml;\n",
              "          element.appendChild(docLink);\n",
              "        }\n",
              "      </script>\n",
              "    </div>\n",
              "  </div>\n",
              "  "
            ]
          },
          "metadata": {},
          "execution_count": 436
        }
      ]
    },
    {
      "cell_type": "code",
      "source": [
        "#passing the data and creating environment\n",
        "environment = gym.make('stocks-v0', df=data,frame_bound=(5,20), window_size=5)\n"
      ],
      "metadata": {
        "id": "3HgFU0xhvC4f"
      },
      "execution_count": null,
      "outputs": []
    },
    {
      "cell_type": "code",
      "source": [
        "#running the test environment\n",
        "done = False\n",
        "state = environment.reset()\n",
        "result = []\n",
        "while not done:\n",
        "    action = environment.action_space.sample()\n",
        "    state, reward, done, info = environment.step(action)\n",
        "    # Put each rendered values to result for analysis\n",
        "    result.append({\n",
        "        'state': state,\n",
        "        'action': action,\n",
        "        'reward': reward,\n",
        "        'info': info\n",
        "        }\n",
        "    )\n",
        "    if done:\n",
        "      print(info)\n",
        "      break"
      ],
      "metadata": {
        "id": "e6PRaKDyWu4L",
        "outputId": "9e22574f-91cf-4c97-fc85-1df8ea94a6da",
        "colab": {
          "base_uri": "https://localhost:8080/"
        }
      },
      "execution_count": null,
      "outputs": [
        {
          "output_type": "stream",
          "name": "stdout",
          "text": [
            "{'total_reward': -130.09000396728518, 'total_profit': 0.8054449436191385, 'position': 1}\n"
          ]
        }
      ]
    },
    {
      "cell_type": "code",
      "source": [
        "#evaluation of the agent's performance at each step\n",
        "def print_result(result):\n",
        "    for i, res in enumerate(result):\n",
        "        print(\"-------------------------------------------------\"+ str(f\"Step:{i + 1}\") + \"------------------------------------------------------------\")\n",
        "        print(f\"State: {res['state']}\")\n",
        "        print(f\"Action: {res['action']}\")\n",
        "        print(f\"info: {res['info']}\")\n",
        "print_result(result)"
      ],
      "metadata": {
        "id": "YSrD8TOYWywF",
        "outputId": "9e844677-2e5a-4d43-90e2-74f3dbaef10c",
        "colab": {
          "base_uri": "https://localhost:8080/"
        }
      },
      "execution_count": null,
      "outputs": [
        {
          "output_type": "stream",
          "name": "stdout",
          "text": [
            "-------------------------------------------------Step:1------------------------------------------------------------\n",
            "State: [[ 1.83600006e+01  9.89999771e-01]\n",
            " [ 1.80799999e+01 -2.80000687e-01]\n",
            " [ 1.76900005e+01 -3.89999390e-01]\n",
            " [ 1.99400005e+01  2.25000000e+00]\n",
            " [ 1.99500008e+01  1.00002289e-02]]\n",
            "Action: 1\n",
            "info: {'total_reward': 0.0, 'total_profit': 1.0, 'position': 1}\n",
            "-------------------------------------------------Step:2------------------------------------------------------------\n",
            "State: [[ 1.80799999e+01 -2.80000687e-01]\n",
            " [ 1.76900005e+01 -3.89999390e-01]\n",
            " [ 1.99400005e+01  2.25000000e+00]\n",
            " [ 1.99500008e+01  1.00002289e-02]\n",
            " [ 3.13999996e+01  1.14499989e+01]]\n",
            "Action: 1\n",
            "info: {'total_reward': 0.0, 'total_profit': 1.0, 'position': 1}\n",
            "-------------------------------------------------Step:3------------------------------------------------------------\n",
            "State: [[ 1.76900005e+01 -3.89999390e-01]\n",
            " [ 1.99400005e+01  2.25000000e+00]\n",
            " [ 1.99500008e+01  1.00002289e-02]\n",
            " [ 3.13999996e+01  1.14499989e+01]\n",
            " [ 3.99099998e+01  8.51000023e+00]]\n",
            "Action: 0\n",
            "info: {'total_reward': 19.959999084472656, 'total_profit': 1.970593676503741, 'position': 0}\n",
            "-------------------------------------------------Step:4------------------------------------------------------------\n",
            "State: [[ 1.99400005e+01  2.25000000e+00]\n",
            " [ 1.99500008e+01  1.00002289e-02]\n",
            " [ 3.13999996e+01  1.14499989e+01]\n",
            " [ 3.99099998e+01  8.51000023e+00]\n",
            " [ 3.55000000e+01 -4.40999985e+00]]\n",
            "Action: 1\n",
            "info: {'total_reward': 19.959999084472656, 'total_profit': 1.970593676503741, 'position': 1}\n",
            "-------------------------------------------------Step:5------------------------------------------------------------\n",
            "State: [[ 1.99500008e+01  1.00002289e-02]\n",
            " [ 3.13999996e+01  1.14499989e+01]\n",
            " [ 3.99099998e+01  8.51000023e+00]\n",
            " [ 3.55000000e+01 -4.40999985e+00]\n",
            " [ 3.93600006e+01  3.86000061e+00]]\n",
            "Action: 0\n",
            "info: {'total_reward': 23.81999969482422, 'total_profit': 2.1521974060199587, 'position': 0}\n",
            "-------------------------------------------------Step:6------------------------------------------------------------\n",
            "State: [[31.39999962 11.44999886]\n",
            " [39.90999985  8.51000023]\n",
            " [35.5        -4.40999985]\n",
            " [39.36000061  3.86000061]\n",
            " [39.11999893 -0.24000168]]\n",
            "Action: 0\n",
            "info: {'total_reward': 23.81999969482422, 'total_profit': 2.1521974060199587, 'position': 0}\n",
            "-------------------------------------------------Step:7------------------------------------------------------------\n",
            "State: [[39.90999985  8.51000023]\n",
            " [35.5        -4.40999985]\n",
            " [39.36000061  3.86000061]\n",
            " [39.11999893 -0.24000168]\n",
            " [43.02999878  3.90999985]]\n",
            "Action: 0\n",
            "info: {'total_reward': 23.81999969482422, 'total_profit': 2.1521974060199587, 'position': 0}\n",
            "-------------------------------------------------Step:8------------------------------------------------------------\n",
            "State: [[35.5        -4.40999985]\n",
            " [39.36000061  3.86000061]\n",
            " [39.11999893 -0.24000168]\n",
            " [43.02999878  3.90999985]\n",
            " [65.01000214 21.98000336]]\n",
            "Action: 0\n",
            "info: {'total_reward': 23.81999969482422, 'total_profit': 2.1521974060199587, 'position': 0}\n",
            "-------------------------------------------------Step:9------------------------------------------------------------\n",
            "State: [[39.36000061  3.86000061]\n",
            " [39.11999893 -0.24000168]\n",
            " [43.02999878  3.90999985]\n",
            " [65.01000214 21.98000336]\n",
            " [76.79000092 11.77999878]]\n",
            "Action: 0\n",
            "info: {'total_reward': 23.81999969482422, 'total_profit': 2.1521974060199587, 'position': 0}\n",
            "-------------------------------------------------Step:10------------------------------------------------------------\n",
            "State: [[ 39.11999893  -0.24000168]\n",
            " [ 43.02999878   3.90999985]\n",
            " [ 65.01000214  21.98000336]\n",
            " [ 76.79000092  11.77999878]\n",
            " [147.97999573  71.18999481]]\n",
            "Action: 0\n",
            "info: {'total_reward': 23.81999969482422, 'total_profit': 2.1521974060199587, 'position': 0}\n",
            "-------------------------------------------------Step:11------------------------------------------------------------\n",
            "State: [[ 43.02999878   3.90999985]\n",
            " [ 65.01000214  21.98000336]\n",
            " [ 76.79000092  11.77999878]\n",
            " [147.97999573  71.18999481]\n",
            " [347.51000977 199.53001404]]\n",
            "Action: 1\n",
            "info: {'total_reward': 23.81999969482422, 'total_profit': 2.1521974060199587, 'position': 1}\n",
            "-------------------------------------------------Step:12------------------------------------------------------------\n",
            "State: [[  65.01000214   21.98000336]\n",
            " [  76.79000092   11.77999878]\n",
            " [ 147.97999573   71.18999481]\n",
            " [ 347.51000977  199.53001404]\n",
            " [ 193.6000061  -153.91000366]]\n",
            "Action: 0\n",
            "info: {'total_reward': -130.09000396728518, 'total_profit': 1.181077583997293, 'position': 0}\n",
            "-------------------------------------------------Step:13------------------------------------------------------------\n",
            "State: [[  76.79000092   11.77999878]\n",
            " [ 147.97999573   71.18999481]\n",
            " [ 347.51000977  199.53001404]\n",
            " [ 193.6000061  -153.91000366]\n",
            " [ 325.          131.3999939 ]]\n",
            "Action: 1\n",
            "info: {'total_reward': -130.09000396728518, 'total_profit': 1.181077583997293, 'position': 1}\n",
            "-------------------------------------------------Step:14------------------------------------------------------------\n",
            "State: [[ 147.97999573   71.18999481]\n",
            " [ 347.51000977  199.53001404]\n",
            " [ 193.6000061  -153.91000366]\n",
            " [ 325.          131.3999939 ]\n",
            " [ 225.         -100.        ]]\n",
            "Action: 1\n",
            "info: {'total_reward': -130.09000396728518, 'total_profit': 0.8054449436191385, 'position': 1}\n"
          ]
        }
      ]
    },
    {
      "cell_type": "code",
      "source": [
        "#analysing rewards of the agent at each step\n",
        "step_list=[]\n",
        "reward_list = []\n",
        "for i, res in enumerate(result):\n",
        "  step_list.append(i)\n",
        "  reward_list.append(res['reward'])\n",
        "plt.plot(step_list,reward_list)\n",
        "plt.title('Reward at each step')\n",
        "plt.xlabel('Steps')\n",
        "plt.ylabel('reward')\n",
        "\n"
      ],
      "metadata": {
        "colab": {
          "base_uri": "https://localhost:8080/",
          "height": 312
        },
        "id": "2mjiylRQLbUl",
        "outputId": "7dbaafea-178d-4d92-bfd9-403ef9a28df2"
      },
      "execution_count": null,
      "outputs": [
        {
          "output_type": "execute_result",
          "data": {
            "text/plain": [
              "Text(0, 0.5, 'reward')"
            ]
          },
          "metadata": {},
          "execution_count": 430
        },
        {
          "output_type": "display_data",
          "data": {
            "text/plain": [
              "<Figure size 432x288 with 1 Axes>"
            ],
            "image/png": "[encoded data removed]"
          },
          "metadata": {
            "needs_background": "light"
          }
        }
      ]
    },
    {
      "cell_type": "code",
      "source": [
        "#Rendering the whole environment.\n",
        "environment.render_all()"
      ],
      "metadata": {
        "id": "tYYStX1IP9qO",
        "outputId": "b3a19b1c-9b7e-45cf-f752-7c2ee4d981e4",
        "colab": {
          "base_uri": "https://localhost:8080/",
          "height": 294
        }
      },
      "execution_count": null,
      "outputs": [
        {
          "output_type": "display_data",
          "data": {
            "text/plain": [
              "<Figure size 432x288 with 1 Axes>"
            ],
            "image/png": "[encoded data removed]"
          },
          "metadata": {
            "needs_background": "light"
          }
        }
      ]
    },
    {
      "cell_type": "markdown",
      "source": [
        "Training an RL agent to trade using the Gym environment"
      ],
      "metadata": {
        "id": "hfpa2VWATVQy"
      }
    },
    {
      "cell_type": "code",
      "source": [
        "#setting up our environment for training\n",
        "environment = gym.make('stocks-v0', df=data, frame_bound=(5,20), window_size=5)"
      ],
      "metadata": {
        "id": "Gv1kdTL9tSmr"
      },
      "execution_count": null,
      "outputs": []
    },
    {
      "cell_type": "code",
      "source": [
        "#Applying the Trading RL Algorithm\n",
        "model_train = A2C('MlpPolicy', environment, verbose=1)\n",
        "#setting the learning timesteps\n",
        "model_train.learn(total_timesteps=1000)"
      ],
      "metadata": {
        "id": "4g5oH_yRY8ms",
        "colab": {
          "base_uri": "https://localhost:8080/"
        },
        "outputId": "310af699-9dad-4b44-c3e6-f0060298eb39"
      },
      "execution_count": null,
      "outputs": [
        {
          "output_type": "stream",
          "name": "stdout",
          "text": [
            "Using cpu device\n",
            "Wrapping the env with a `Monitor` wrapper\n",
            "Wrapping the env in a DummyVecEnv.\n",
            "------------------------------------\n",
            "| rollout/              |          |\n",
            "|    ep_len_mean        | 14       |\n",
            "|    ep_rew_mean        | 175      |\n",
            "| time/                 |          |\n",
            "|    fps                | 658      |\n",
            "|    iterations         | 100      |\n",
            "|    time_elapsed       | 0        |\n",
            "|    total_timesteps    | 500      |\n",
            "| train/                |          |\n",
            "|    entropy_loss       | -0.596   |\n",
            "|    explained_variance | 0.000837 |\n",
            "|    learning_rate      | 0.0007   |\n",
            "|    n_updates          | 99       |\n",
            "|    policy_loss        | 7.43     |\n",
            "|    value_loss         | 331      |\n",
            "------------------------------------\n",
            "------------------------------------\n",
            "| rollout/              |          |\n",
            "|    ep_len_mean        | 14       |\n",
            "|    ep_rew_mean        | 197      |\n",
            "| time/                 |          |\n",
            "|    fps                | 679      |\n",
            "|    iterations         | 200      |\n",
            "|    time_elapsed       | 1        |\n",
            "|    total_timesteps    | 1000     |\n",
            "| train/                |          |\n",
            "|    entropy_loss       | -0.482   |\n",
            "|    explained_variance | 0.00641  |\n",
            "|    learning_rate      | 0.0007   |\n",
            "|    n_updates          | 199      |\n",
            "|    policy_loss        | 20.3     |\n",
            "|    value_loss         | 2.59e+04 |\n",
            "------------------------------------\n"
          ]
        },
        {
          "output_type": "execute_result",
          "data": {
            "text/plain": [
              "<stable_baselines3.a2c.a2c.A2C at 0x7f07dc208d90>"
            ]
          },
          "metadata": {},
          "execution_count": 394
        }
      ]
    },
    {
      "cell_type": "code",
      "source": [
        "#Setting up the Agent Environment\n",
        "environment = gym.make('stocks-v0', df=data,frame_bound=(5,20), window_size=5)\n",
        "obs = environment.reset()\n",
        "done = False\n",
        "result= []\n",
        "while not done:\n",
        "    obs = obs[np.newaxis, ...]\n",
        "    action, _states = model_train.predict(obs)\n",
        "    obs, reward, done, info = environment.step(action)\n",
        "    result.append({\n",
        "        'state': state,\n",
        "        'action': action,\n",
        "        'reward': reward,\n",
        "        'info': info\n",
        "        }\n",
        "    )\n",
        "    if done:\n",
        "      print(info)\n",
        "      break\n"
      ],
      "metadata": {
        "id": "Js4SSk46aQzM",
        "colab": {
          "base_uri": "https://localhost:8080/"
        },
        "outputId": "94ab7b33-f253-4eb9-d825-01d4bdd51ba2"
      },
      "execution_count": null,
      "outputs": [
        {
          "output_type": "stream",
          "name": "stdout",
          "text": [
            "{'total_reward': -216.38000106811526, 'total_profit': 0.9762579634893995, 'position': 0}\n"
          ]
        }
      ]
    },
    {
      "cell_type": "code",
      "source": [
        "#evaluation of the agent's performance at each step\n",
        "def print_result(result):\n",
        " for i, res in enumerate(result):\n",
        "        print(\"-------------------------------------------------\"+ str(f\"Step:{i + 1}\") + \"------------------------------------------------------------\")\n",
        "        print(f\"State: {res['state']}\")\n",
        "        print(f\"Action: {res['action']}\")\n",
        "        print(f\"info: {res['info']}\")\n",
        "print_result(result)"
      ],
      "metadata": {
        "colab": {
          "base_uri": "https://localhost:8080/"
        },
        "id": "3KayRoy6SGPh",
        "outputId": "abcb8bc1-3bf2-453a-b0fc-66c7ac22717c"
      },
      "execution_count": null,
      "outputs": [
        {
          "output_type": "stream",
          "name": "stdout",
          "text": [
            "-------------------------------------------------Step:1------------------------------------------------------------\n",
            "State: [[ 147.97999573   71.18999481]\n",
            " [ 347.51000977  199.53001404]\n",
            " [ 193.6000061  -153.91000366]\n",
            " [ 325.          131.3999939 ]\n",
            " [ 225.         -100.        ]]\n",
            "Action: [1]\n",
            "info: {'total_reward': 0.0, 'total_profit': 1.0, 'position': 1}\n",
            "-------------------------------------------------Step:2------------------------------------------------------------\n",
            "State: [[ 147.97999573   71.18999481]\n",
            " [ 347.51000977  199.53001404]\n",
            " [ 193.6000061  -153.91000366]\n",
            " [ 325.          131.3999939 ]\n",
            " [ 225.         -100.        ]]\n",
            "Action: [1]\n",
            "info: {'total_reward': 0.0, 'total_profit': 1.0, 'position': 1}\n",
            "-------------------------------------------------Step:3------------------------------------------------------------\n",
            "State: [[ 147.97999573   71.18999481]\n",
            " [ 347.51000977  199.53001404]\n",
            " [ 193.6000061  -153.91000366]\n",
            " [ 325.          131.3999939 ]\n",
            " [ 225.         -100.        ]]\n",
            "Action: [1]\n",
            "info: {'total_reward': 0.0, 'total_profit': 1.0, 'position': 1}\n",
            "-------------------------------------------------Step:4------------------------------------------------------------\n",
            "State: [[ 147.97999573   71.18999481]\n",
            " [ 347.51000977  199.53001404]\n",
            " [ 193.6000061  -153.91000366]\n",
            " [ 325.          131.3999939 ]\n",
            " [ 225.         -100.        ]]\n",
            "Action: [0]\n",
            "info: {'total_reward': 15.549999237060547, 'total_profit': 1.75284579762831, 'position': 0}\n",
            "-------------------------------------------------Step:5------------------------------------------------------------\n",
            "State: [[ 147.97999573   71.18999481]\n",
            " [ 347.51000977  199.53001404]\n",
            " [ 193.6000061  -153.91000366]\n",
            " [ 325.          131.3999939 ]\n",
            " [ 225.         -100.        ]]\n",
            "Action: [0]\n",
            "info: {'total_reward': 15.549999237060547, 'total_profit': 1.75284579762831, 'position': 0}\n",
            "-------------------------------------------------Step:6------------------------------------------------------------\n",
            "State: [[ 147.97999573   71.18999481]\n",
            " [ 347.51000977  199.53001404]\n",
            " [ 193.6000061  -153.91000366]\n",
            " [ 325.          131.3999939 ]\n",
            " [ 225.         -100.        ]]\n",
            "Action: [0]\n",
            "info: {'total_reward': 15.549999237060547, 'total_profit': 1.75284579762831, 'position': 0}\n",
            "-------------------------------------------------Step:7------------------------------------------------------------\n",
            "State: [[ 147.97999573   71.18999481]\n",
            " [ 347.51000977  199.53001404]\n",
            " [ 193.6000061  -153.91000366]\n",
            " [ 325.          131.3999939 ]\n",
            " [ 225.         -100.        ]]\n",
            "Action: [1]\n",
            "info: {'total_reward': 15.549999237060547, 'total_profit': 1.75284579762831, 'position': 1}\n",
            "-------------------------------------------------Step:8------------------------------------------------------------\n",
            "State: [[ 147.97999573   71.18999481]\n",
            " [ 347.51000977  199.53001404]\n",
            " [ 193.6000061  -153.91000366]\n",
            " [ 325.          131.3999939 ]\n",
            " [ 225.         -100.        ]]\n",
            "Action: [0]\n",
            "info: {'total_reward': 37.53000259399413, 'total_profit': 2.6086200841826086, 'position': 0}\n",
            "-------------------------------------------------Step:9------------------------------------------------------------\n",
            "State: [[ 147.97999573   71.18999481]\n",
            " [ 347.51000977  199.53001404]\n",
            " [ 193.6000061  -153.91000366]\n",
            " [ 325.          131.3999939 ]\n",
            " [ 225.         -100.        ]]\n",
            "Action: [0]\n",
            "info: {'total_reward': 37.53000259399413, 'total_profit': 2.6086200841826086, 'position': 0}\n",
            "-------------------------------------------------Step:10------------------------------------------------------------\n",
            "State: [[ 147.97999573   71.18999481]\n",
            " [ 347.51000977  199.53001404]\n",
            " [ 193.6000061  -153.91000366]\n",
            " [ 325.          131.3999939 ]\n",
            " [ 225.         -100.        ]]\n",
            "Action: [0]\n",
            "info: {'total_reward': 37.53000259399413, 'total_profit': 2.6086200841826086, 'position': 0}\n",
            "-------------------------------------------------Step:11------------------------------------------------------------\n",
            "State: [[ 147.97999573   71.18999481]\n",
            " [ 347.51000977  199.53001404]\n",
            " [ 193.6000061  -153.91000366]\n",
            " [ 325.          131.3999939 ]\n",
            " [ 225.         -100.        ]]\n",
            "Action: [1]\n",
            "info: {'total_reward': 37.53000259399413, 'total_profit': 2.6086200841826086, 'position': 1}\n",
            "-------------------------------------------------Step:12------------------------------------------------------------\n",
            "State: [[ 147.97999573   71.18999481]\n",
            " [ 347.51000977  199.53001404]\n",
            " [ 193.6000061  -153.91000366]\n",
            " [ 325.          131.3999939 ]\n",
            " [ 225.         -100.        ]]\n",
            "Action: [0]\n",
            "info: {'total_reward': -116.38000106811526, 'total_profit': 1.431552095535161, 'position': 0}\n",
            "-------------------------------------------------Step:13------------------------------------------------------------\n",
            "State: [[ 147.97999573   71.18999481]\n",
            " [ 347.51000977  199.53001404]\n",
            " [ 193.6000061  -153.91000366]\n",
            " [ 325.          131.3999939 ]\n",
            " [ 225.         -100.        ]]\n",
            "Action: [1]\n",
            "info: {'total_reward': -116.38000106811526, 'total_profit': 1.431552095535161, 'position': 1}\n",
            "-------------------------------------------------Step:14------------------------------------------------------------\n",
            "State: [[ 147.97999573   71.18999481]\n",
            " [ 347.51000977  199.53001404]\n",
            " [ 193.6000061  -153.91000366]\n",
            " [ 325.          131.3999939 ]\n",
            " [ 225.         -100.        ]]\n",
            "Action: [0]\n",
            "info: {'total_reward': -216.38000106811526, 'total_profit': 0.9762579634893995, 'position': 0}\n"
          ]
        }
      ]
    },
    {
      "cell_type": "code",
      "source": [
        "#analysing rewards of the agent at each step\n",
        "step_list=[]\n",
        "reward_list = []\n",
        "for i, res in enumerate(result):\n",
        "  step_list.append(i)\n",
        "  reward_list.append(res['reward'])\n",
        "plt.plot(step_list,reward_list)\n",
        "plt.title('Reward at each step')\n",
        "plt.xlabel('Steps')\n",
        "plt.ylabel('reward')"
      ],
      "metadata": {
        "colab": {
          "base_uri": "https://localhost:8080/",
          "height": 312
        },
        "id": "eRGdfYa2SLur",
        "outputId": "d3e21b3a-f545-45ad-92cf-cf7a3b34c430"
      },
      "execution_count": null,
      "outputs": [
        {
          "output_type": "execute_result",
          "data": {
            "text/plain": [
              "Text(0, 0.5, 'reward')"
            ]
          },
          "metadata": {},
          "execution_count": 410
        },
        {
          "output_type": "display_data",
          "data": {
            "text/plain": [
              "<Figure size 432x288 with 1 Axes>"
            ],
            "image/png": "[encoded data removed]"
          },
          "metadata": {
            "needs_background": "light"
          }
        }
      ]
    },
    {
      "cell_type": "code",
      "source": [
        "#Rendering the whole environment\n",
        "environment.render_all()"
      ],
      "metadata": {
        "id": "vjdQII45aUwe",
        "colab": {
          "base_uri": "https://localhost:8080/",
          "height": 294
        },
        "outputId": "c19c4387-0553-4b92-aeb2-89e762558dea"
      },
      "execution_count": null,
      "outputs": [
        {
          "output_type": "display_data",
          "data": {
            "text/plain": [
              "<Figure size 432x288 with 1 Axes>"
            ],
            "image/png": "[encoded data removed]"
          },
          "metadata": {
            "needs_background": "light"
          }
        }
      ]
    }
  ]
}